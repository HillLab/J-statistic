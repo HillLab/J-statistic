{
 "cells": [
  {
   "cell_type": "code",
   "execution_count": 1,
   "id": "52cd958a",
   "metadata": {},
   "outputs": [],
   "source": [
    "import pandas as pd"
   ]
  },
  {
   "cell_type": "code",
   "execution_count": 3,
   "id": "c440defe",
   "metadata": {},
   "outputs": [],
   "source": [
    "example_snp = pd.read_csv(\"example_SNP.csv\")"
   ]
  },
  {
   "cell_type": "code",
   "execution_count": 5,
   "id": "4f950854",
   "metadata": {},
   "outputs": [],
   "source": [
    "example_cnv = pd.read_csv(\"example_CNV.csv\")"
   ]
  },
  {
   "cell_type": "code",
   "execution_count": 6,
   "id": "cdf32eda",
   "metadata": {},
   "outputs": [
    {
     "name": "stderr",
     "output_type": "stream",
     "text": [
      "/Users/davidchen/anaconda3/lib/python3.8/site-packages/IPython/core/interactiveshell.py:3444: DtypeWarning: Columns (1,7) have mixed types.Specify dtype option on import or set low_memory=False.\n",
      "  exec(code_obj, self.user_global_ns, self.user_ns)\n"
     ]
    }
   ],
   "source": [
    "GGG = pd.read_csv(\"/Users/davidchen/Documents/GitHub/J-statistic/package/data/GGG.csv\")"
   ]
  },
  {
   "cell_type": "code",
   "execution_count": 9,
   "id": "ca1c10e4",
   "metadata": {},
   "outputs": [],
   "source": [
    "output_snp = example_snp.copy()"
   ]
  },
  {
   "cell_type": "code",
   "execution_count": 17,
   "id": "561de7c3",
   "metadata": {},
   "outputs": [],
   "source": [
    "GGG.rename(columns={'PROBESET_ID': 'probeset_id'}, inplace=True)"
   ]
  },
  {
   "cell_type": "code",
   "execution_count": 22,
   "id": "26921240",
   "metadata": {},
   "outputs": [],
   "source": [
    "pd.merge(output_snp, GGG, on='probeset_id').iloc[:,:4].to_csv('example_test_SNP.csv_')"
   ]
  },
  {
   "cell_type": "code",
   "execution_count": 26,
   "id": "f021ca53",
   "metadata": {},
   "outputs": [],
   "source": [
    "example_cnv[['Chromosome', 'Start', 'End', 'Sample']].to_csv('example_test_CNV.csv')"
   ]
  },
  {
   "cell_type": "code",
   "execution_count": null,
   "id": "03f53312",
   "metadata": {},
   "outputs": [],
   "source": []
  }
 ],
 "metadata": {
  "kernelspec": {
   "display_name": "Python 3 (ipykernel)",
   "language": "python",
   "name": "python3"
  },
  "language_info": {
   "codemirror_mode": {
    "name": "ipython",
    "version": 3
   },
   "file_extension": ".py",
   "mimetype": "text/x-python",
   "name": "python",
   "nbconvert_exporter": "python",
   "pygments_lexer": "ipython3",
   "version": "3.8.8"
  }
 },
 "nbformat": 4,
 "nbformat_minor": 5
}
